version https://git-lfs.github.com/spec/v1
oid sha256:e925b947b317cd091ffc40d948a1ee5f789daf733fca0ddadea95cc312cab0b6
size 111380
