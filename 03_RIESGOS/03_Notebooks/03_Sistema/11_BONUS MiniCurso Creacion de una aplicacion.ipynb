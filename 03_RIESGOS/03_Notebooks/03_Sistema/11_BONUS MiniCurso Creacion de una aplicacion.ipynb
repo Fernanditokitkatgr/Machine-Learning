version https://git-lfs.github.com/spec/v1
oid sha256:ccc1589fafa7e4f078f77b1ef946667b6d38cd9299a9022b0379c761ce0710b7
size 26310
