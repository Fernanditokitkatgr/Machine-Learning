version https://git-lfs.github.com/spec/v1
oid sha256:2dd43cf69209d9d9ab2693851ed2063210fe3b15831dd880f31d904dbeba7878
size 42302
